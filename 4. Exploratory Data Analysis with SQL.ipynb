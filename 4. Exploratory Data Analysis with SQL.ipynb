{
 "cells": [
  {
   "cell_type": "markdown",
   "metadata": {},
   "source": [
    "<p style=\"text-align:center\">\n",
    "    <a href=\"https://skills.network\" target=\"_blank\">\n",
    "    <img src=\"https://cf-courses-data.s3.us.cloud-object-storage.appdomain.cloud/assets/logos/SN_web_lightmode.png\" width=\"200\" alt=\"Skills Network Logo\">\n",
    "    </a>\n",
    "</p>\n",
    "\n",
    "<h1 align=center><font size = 5>Assignment: SQL Notebook for Peer Assignment</font></h1>\n",
    "\n",
    "Estimated time needed: **60** minutes.\n",
    "\n",
    "## Introduction\n",
    "Using this Python notebook you will:\n",
    "\n",
    "1.  Understand the Spacex DataSet\n",
    "2.  Load the dataset  into the corresponding table in a Db2 database\n",
    "3.  Execute SQL queries to answer assignment questions \n"
   ]
  },
  {
   "cell_type": "markdown",
   "metadata": {},
   "source": [
    "## Overview of the DataSet\n",
    "\n",
    "SpaceX has gained worldwide attention for a series of historic milestones. \n",
    "\n",
    "It is the only private company ever to return a spacecraft from low-earth orbit, which it first accomplished in December 2010.\n",
    "SpaceX advertises Falcon 9 rocket launches on its website with a cost of 62 million dollars wheras other providers cost upward of 165 million dollars each, much of the savings is because Space X can reuse the first stage. \n",
    "\n",
    "\n",
    "Therefore if we can determine if the first stage will land, we can determine the cost of a launch. \n",
    "\n",
    "This information can be used if an alternate company wants to bid against SpaceX for a rocket launch.\n",
    "\n",
    "This dataset includes a record for each payload carried during a SpaceX mission into outer space.\n"
   ]
  },
  {
   "cell_type": "markdown",
   "metadata": {},
   "source": [
    "### Download the datasets\n",
    "\n",
    "This assignment requires you to load the spacex dataset.\n",
    "\n",
    "In many cases the dataset to be analyzed is available as a .CSV (comma separated values) file, perhaps on the internet. Click on the link below to download and save the dataset (.CSV file):\n",
    "\n",
    " <a href=\"https://cf-courses-data.s3.us.cloud-object-storage.appdomain.cloud/IBM-DS0321EN-SkillsNetwork/labs/module_2/data/Spacex.csv\" target=\"_blank\">Spacex DataSet</a>\n",
    "\n"
   ]
  },
  {
   "cell_type": "code",
   "execution_count": 1,
   "metadata": {
    "tags": []
   },
   "outputs": [
    {
     "name": "stdout",
     "output_type": "stream",
     "text": [
      "Collecting sqlalchemy==1.3.9\n",
      "  Downloading SQLAlchemy-1.3.9.tar.gz (6.0 MB)\n",
      "     ---------------------------------------- 0.0/6.0 MB ? eta -:--:--\n",
      "     ---------------------------------------- 0.0/6.0 MB ? eta -:--:--\n",
      "     ---------------------------------------- 0.0/6.0 MB ? eta -:--:--\n",
      "     ---------------------------------------- 0.0/6.0 MB 108.9 kB/s eta 0:00:55\n",
      "     ---------------------------------------- 0.0/6.0 MB 108.9 kB/s eta 0:00:55\n",
      "     ---------------------------------------- 0.0/6.0 MB 109.5 kB/s eta 0:00:55\n",
      "     ---------------------------------------- 0.0/6.0 MB 109.5 kB/s eta 0:00:55\n",
      "     ---------------------------------------- 0.0/6.0 MB 115.5 kB/s eta 0:00:52\n",
      "     ---------------------------------------- 0.0/6.0 MB 115.5 kB/s eta 0:00:52\n",
      "     ---------------------------------------- 0.0/6.0 MB 115.5 kB/s eta 0:00:52\n",
      "     ---------------------------------------- 0.1/6.0 MB 130.9 kB/s eta 0:00:46\n",
      "     ---------------------------------------- 0.1/6.0 MB 130.9 kB/s eta 0:00:46\n",
      "      --------------------------------------- 0.1/6.0 MB 163.8 kB/s eta 0:00:36\n",
      "      --------------------------------------- 0.1/6.0 MB 187.2 kB/s eta 0:00:32\n",
      "      --------------------------------------- 0.1/6.0 MB 194.9 kB/s eta 0:00:30\n",
      "      --------------------------------------- 0.1/6.0 MB 194.9 kB/s eta 0:00:30\n",
      "     - -------------------------------------- 0.2/6.0 MB 223.6 kB/s eta 0:00:26\n",
      "     - -------------------------------------- 0.2/6.0 MB 227.9 kB/s eta 0:00:26\n",
      "     - -------------------------------------- 0.2/6.0 MB 254.0 kB/s eta 0:00:23\n",
      "     - -------------------------------------- 0.2/6.0 MB 269.8 kB/s eta 0:00:22\n",
      "     - -------------------------------------- 0.2/6.0 MB 279.1 kB/s eta 0:00:21\n",
      "     - -------------------------------------- 0.3/6.0 MB 275.8 kB/s eta 0:00:21\n",
      "     - -------------------------------------- 0.3/6.0 MB 279.4 kB/s eta 0:00:21\n",
      "     -- ------------------------------------- 0.3/6.0 MB 292.3 kB/s eta 0:00:20\n",
      "     -- ------------------------------------- 0.3/6.0 MB 303.2 kB/s eta 0:00:19\n",
      "     -- ------------------------------------- 0.3/6.0 MB 304.0 kB/s eta 0:00:19\n",
      "     -- ------------------------------------- 0.4/6.0 MB 314.1 kB/s eta 0:00:18\n",
      "     -- ------------------------------------- 0.4/6.0 MB 319.2 kB/s eta 0:00:18\n",
      "     -- ------------------------------------- 0.4/6.0 MB 319.2 kB/s eta 0:00:18\n",
      "     -- ------------------------------------- 0.4/6.0 MB 323.5 kB/s eta 0:00:18\n",
      "     --- ------------------------------------ 0.5/6.0 MB 331.6 kB/s eta 0:00:17\n",
      "     --- ------------------------------------ 0.5/6.0 MB 375.4 kB/s eta 0:00:15\n",
      "     ---- ----------------------------------- 0.6/6.0 MB 439.3 kB/s eta 0:00:13\n",
      "     ---- ----------------------------------- 0.7/6.0 MB 439.2 kB/s eta 0:00:13\n",
      "     ---- ----------------------------------- 0.7/6.0 MB 452.6 kB/s eta 0:00:12\n",
      "     ----- ---------------------------------- 0.7/6.0 MB 476.6 kB/s eta 0:00:11\n",
      "     ----- ---------------------------------- 0.8/6.0 MB 494.7 kB/s eta 0:00:11\n",
      "     ----- ---------------------------------- 0.9/6.0 MB 519.4 kB/s eta 0:00:10\n",
      "     ------ --------------------------------- 1.0/6.0 MB 582.7 kB/s eta 0:00:09\n",
      "     ------- -------------------------------- 1.1/6.0 MB 655.5 kB/s eta 0:00:08\n",
      "     -------- ------------------------------- 1.2/6.0 MB 690.0 kB/s eta 0:00:07\n",
      "     -------- ------------------------------- 1.3/6.0 MB 717.0 kB/s eta 0:00:07\n",
      "     --------- ------------------------------ 1.5/6.0 MB 786.4 kB/s eta 0:00:06\n",
      "     ---------- ----------------------------- 1.6/6.0 MB 804.5 kB/s eta 0:00:06\n",
      "     ----------- ---------------------------- 1.7/6.0 MB 854.6 kB/s eta 0:00:06\n",
      "     ----------- ---------------------------- 1.7/6.0 MB 854.6 kB/s eta 0:00:06\n",
      "     ------------ --------------------------- 1.9/6.0 MB 908.8 kB/s eta 0:00:05\n",
      "     -------------- ------------------------- 2.2/6.0 MB 1.0 MB/s eta 0:00:04\n",
      "     ----------------- ---------------------- 2.6/6.0 MB 1.2 MB/s eta 0:00:03\n",
      "     -------------------- ------------------- 3.0/6.0 MB 1.3 MB/s eta 0:00:03\n",
      "     --------------------- ------------------ 3.2/6.0 MB 1.4 MB/s eta 0:00:02\n",
      "     --------------------- ------------------ 3.2/6.0 MB 1.4 MB/s eta 0:00:02\n",
      "     --------------------- ------------------ 3.2/6.0 MB 1.4 MB/s eta 0:00:02\n",
      "     --------------------- ------------------ 3.2/6.0 MB 1.4 MB/s eta 0:00:02\n",
      "     --------------------- ------------------ 3.2/6.0 MB 1.4 MB/s eta 0:00:02\n",
      "     --------------------- ------------------ 3.2/6.0 MB 1.4 MB/s eta 0:00:02\n",
      "     --------------------- ------------------ 3.2/6.0 MB 1.4 MB/s eta 0:00:02\n",
      "     --------------------- ------------------ 3.2/6.0 MB 1.4 MB/s eta 0:00:02\n",
      "     --------------------- ------------------ 3.2/6.0 MB 1.4 MB/s eta 0:00:02\n",
      "     --------------------- ------------------ 3.2/6.0 MB 1.4 MB/s eta 0:00:02\n",
      "     --------------------- ------------------ 3.2/6.0 MB 1.4 MB/s eta 0:00:02\n",
      "     --------------------- ------------------ 3.2/6.0 MB 1.4 MB/s eta 0:00:02\n",
      "     --------------------- ------------------ 3.2/6.0 MB 1.4 MB/s eta 0:00:02\n",
      "     --------------------- ------------------ 3.2/6.0 MB 1.4 MB/s eta 0:00:02\n",
      "     --------------------- ------------------ 3.2/6.0 MB 1.4 MB/s eta 0:00:02\n",
      "     --------------------- ------------------ 3.2/6.0 MB 1.4 MB/s eta 0:00:02\n",
      "     --------------------- ------------------ 3.2/6.0 MB 1.4 MB/s eta 0:00:02\n",
      "     ------------------------------------ --- 5.5/6.0 MB 1.8 MB/s eta 0:00:01\n",
      "     -------------------------------------- - 5.7/6.0 MB 1.9 MB/s eta 0:00:01\n",
      "     ---------------------------------------  6.0/6.0 MB 1.9 MB/s eta 0:00:01\n",
      "     ---------------------------------------- 6.0/6.0 MB 1.9 MB/s eta 0:00:00\n",
      "  Installing build dependencies: started\n",
      "  Installing build dependencies: finished with status 'done'\n",
      "  Getting requirements to build wheel: started\n",
      "  Getting requirements to build wheel: finished with status 'done'\n",
      "  Preparing metadata (pyproject.toml): started\n",
      "  Preparing metadata (pyproject.toml): finished with status 'done'\n",
      "Building wheels for collected packages: sqlalchemy\n",
      "  Building wheel for sqlalchemy (pyproject.toml): started\n",
      "  Building wheel for sqlalchemy (pyproject.toml): finished with status 'done'\n",
      "  Created wheel for sqlalchemy: filename=SQLAlchemy-1.3.9-cp311-cp311-win_amd64.whl size=1142950 sha256=527b069db19129e8f795ba78e709ff09fc4a1a05d30dc7f583f6fd2df163b6ab\n",
      "  Stored in directory: c:\\users\\dell\\appdata\\local\\pip\\cache\\wheels\\3a\\7c\\1e\\12404784a68083eb969f877a1808a1847bab897684b56ddc55\n",
      "Successfully built sqlalchemy\n",
      "Installing collected packages: sqlalchemy\n",
      "Successfully installed sqlalchemy-1.3.9\n"
     ]
    },
    {
     "name": "stderr",
     "output_type": "stream",
     "text": [
      "\n",
      "[notice] A new release of pip is available: 24.0 -> 24.1.1\n",
      "[notice] To update, run: C:\\Users\\Dell\\AppData\\Local\\Microsoft\\WindowsApps\\PythonSoftwareFoundation.Python.3.11_qbz5n2kfra8p0\\python.exe -m pip install --upgrade pip\n"
     ]
    }
   ],
   "source": [
    "!pip install sqlalchemy==1.3.9\n"
   ]
  },
  {
   "cell_type": "markdown",
   "metadata": {},
   "source": [
    "### Connect to the database\n",
    "\n",
    "Let us first load the SQL extension and establish a connection with the database\n"
   ]
  },
  {
   "cell_type": "code",
   "execution_count": 4,
   "metadata": {
    "tags": []
   },
   "outputs": [
    {
     "name": "stdout",
     "output_type": "stream",
     "text": [
      "Collecting ipython-sql\n",
      "  Downloading ipython_sql-0.5.0-py3-none-any.whl.metadata (17 kB)\n",
      "Collecting prettytable (from ipython-sql)\n",
      "  Downloading prettytable-3.10.0-py3-none-any.whl.metadata (30 kB)\n",
      "Requirement already satisfied: ipython in c:\\users\\dell\\appdata\\local\\packages\\pythonsoftwarefoundation.python.3.11_qbz5n2kfra8p0\\localcache\\local-packages\\python311\\site-packages (from ipython-sql) (8.24.0)\n",
      "Collecting sqlalchemy>=2.0 (from ipython-sql)\n",
      "  Downloading SQLAlchemy-2.0.31-cp311-cp311-win_amd64.whl.metadata (9.9 kB)\n",
      "Collecting sqlparse (from ipython-sql)\n",
      "  Downloading sqlparse-0.5.0-py3-none-any.whl.metadata (3.9 kB)\n",
      "Requirement already satisfied: six in c:\\users\\dell\\appdata\\local\\packages\\pythonsoftwarefoundation.python.3.11_qbz5n2kfra8p0\\localcache\\local-packages\\python311\\site-packages (from ipython-sql) (1.16.0)\n",
      "Requirement already satisfied: ipython-genutils in c:\\users\\dell\\appdata\\local\\packages\\pythonsoftwarefoundation.python.3.11_qbz5n2kfra8p0\\localcache\\local-packages\\python311\\site-packages (from ipython-sql) (0.2.0)\n",
      "Requirement already satisfied: typing-extensions>=4.6.0 in c:\\users\\dell\\appdata\\local\\packages\\pythonsoftwarefoundation.python.3.11_qbz5n2kfra8p0\\localcache\\local-packages\\python311\\site-packages (from sqlalchemy>=2.0->ipython-sql) (4.12.1)\n",
      "Collecting greenlet!=0.4.17 (from sqlalchemy>=2.0->ipython-sql)\n",
      "  Downloading greenlet-3.0.3-cp311-cp311-win_amd64.whl.metadata (3.9 kB)\n",
      "Requirement already satisfied: decorator in c:\\users\\dell\\appdata\\local\\packages\\pythonsoftwarefoundation.python.3.11_qbz5n2kfra8p0\\localcache\\local-packages\\python311\\site-packages (from ipython->ipython-sql) (5.1.1)\n",
      "Requirement already satisfied: jedi>=0.16 in c:\\users\\dell\\appdata\\local\\packages\\pythonsoftwarefoundation.python.3.11_qbz5n2kfra8p0\\localcache\\local-packages\\python311\\site-packages (from ipython->ipython-sql) (0.19.1)\n",
      "Requirement already satisfied: matplotlib-inline in c:\\users\\dell\\appdata\\local\\packages\\pythonsoftwarefoundation.python.3.11_qbz5n2kfra8p0\\localcache\\local-packages\\python311\\site-packages (from ipython->ipython-sql) (0.1.7)\n",
      "Requirement already satisfied: prompt-toolkit<3.1.0,>=3.0.41 in c:\\users\\dell\\appdata\\local\\packages\\pythonsoftwarefoundation.python.3.11_qbz5n2kfra8p0\\localcache\\local-packages\\python311\\site-packages (from ipython->ipython-sql) (3.0.43)\n",
      "Requirement already satisfied: pygments>=2.4.0 in c:\\users\\dell\\appdata\\local\\packages\\pythonsoftwarefoundation.python.3.11_qbz5n2kfra8p0\\localcache\\local-packages\\python311\\site-packages (from ipython->ipython-sql) (2.16.1)\n",
      "Requirement already satisfied: stack-data in c:\\users\\dell\\appdata\\local\\packages\\pythonsoftwarefoundation.python.3.11_qbz5n2kfra8p0\\localcache\\local-packages\\python311\\site-packages (from ipython->ipython-sql) (0.6.3)\n",
      "Requirement already satisfied: traitlets>=5.13.0 in c:\\users\\dell\\appdata\\local\\packages\\pythonsoftwarefoundation.python.3.11_qbz5n2kfra8p0\\localcache\\local-packages\\python311\\site-packages (from ipython->ipython-sql) (5.14.3)\n",
      "Requirement already satisfied: colorama in c:\\users\\dell\\appdata\\local\\packages\\pythonsoftwarefoundation.python.3.11_qbz5n2kfra8p0\\localcache\\local-packages\\python311\\site-packages (from ipython->ipython-sql) (0.4.6)\n",
      "Requirement already satisfied: wcwidth in c:\\users\\dell\\appdata\\local\\packages\\pythonsoftwarefoundation.python.3.11_qbz5n2kfra8p0\\localcache\\local-packages\\python311\\site-packages (from prettytable->ipython-sql) (0.2.13)\n",
      "Requirement already satisfied: parso<0.9.0,>=0.8.3 in c:\\users\\dell\\appdata\\local\\packages\\pythonsoftwarefoundation.python.3.11_qbz5n2kfra8p0\\localcache\\local-packages\\python311\\site-packages (from jedi>=0.16->ipython->ipython-sql) (0.8.4)\n",
      "Requirement already satisfied: executing>=1.2.0 in c:\\users\\dell\\appdata\\local\\packages\\pythonsoftwarefoundation.python.3.11_qbz5n2kfra8p0\\localcache\\local-packages\\python311\\site-packages (from stack-data->ipython->ipython-sql) (2.0.1)\n",
      "Requirement already satisfied: asttokens>=2.1.0 in c:\\users\\dell\\appdata\\local\\packages\\pythonsoftwarefoundation.python.3.11_qbz5n2kfra8p0\\localcache\\local-packages\\python311\\site-packages (from stack-data->ipython->ipython-sql) (2.4.1)\n",
      "Requirement already satisfied: pure-eval in c:\\users\\dell\\appdata\\local\\packages\\pythonsoftwarefoundation.python.3.11_qbz5n2kfra8p0\\localcache\\local-packages\\python311\\site-packages (from stack-data->ipython->ipython-sql) (0.2.2)\n",
      "Downloading ipython_sql-0.5.0-py3-none-any.whl (20 kB)\n",
      "Downloading SQLAlchemy-2.0.31-cp311-cp311-win_amd64.whl (2.1 MB)\n",
      "   ---------------------------------------- 0.0/2.1 MB ? eta -:--:--\n",
      "   ---------------------------------------- 0.0/2.1 MB ? eta -:--:--\n",
      "   ---------------------------------------- 0.0/2.1 MB ? eta -:--:--\n",
      "    --------------------------------------- 0.0/2.1 MB 217.9 kB/s eta 0:00:10\n",
      "    --------------------------------------- 0.0/2.1 MB 217.9 kB/s eta 0:00:10\n",
      "    --------------------------------------- 0.0/2.1 MB 217.9 kB/s eta 0:00:10\n",
      "    --------------------------------------- 0.0/2.1 MB 217.9 kB/s eta 0:00:10\n",
      "    --------------------------------------- 0.0/2.1 MB 115.5 kB/s eta 0:00:18\n",
      "    --------------------------------------- 0.0/2.1 MB 115.5 kB/s eta 0:00:18\n",
      "   - -------------------------------------- 0.1/2.1 MB 142.2 kB/s eta 0:00:15\n",
      "   - -------------------------------------- 0.1/2.1 MB 135.6 kB/s eta 0:00:15\n",
      "   - -------------------------------------- 0.1/2.1 MB 158.2 kB/s eta 0:00:13\n",
      "   - -------------------------------------- 0.1/2.1 MB 158.2 kB/s eta 0:00:13\n",
      "   - -------------------------------------- 0.1/2.1 MB 149.8 kB/s eta 0:00:14\n",
      "   - -------------------------------------- 0.1/2.1 MB 149.8 kB/s eta 0:00:14\n",
      "   -- ------------------------------------- 0.1/2.1 MB 159.8 kB/s eta 0:00:13\n",
      "   -- ------------------------------------- 0.1/2.1 MB 160.2 kB/s eta 0:00:13\n",
      "   -- ------------------------------------- 0.1/2.1 MB 160.2 kB/s eta 0:00:13\n",
      "   -- ------------------------------------- 0.1/2.1 MB 160.8 kB/s eta 0:00:13\n",
      "   -- ------------------------------------- 0.1/2.1 MB 160.8 kB/s eta 0:00:13\n",
      "   --- ------------------------------------ 0.2/2.1 MB 172.4 kB/s eta 0:00:12\n",
      "   --- ------------------------------------ 0.2/2.1 MB 169.1 kB/s eta 0:00:12\n",
      "   --- ------------------------------------ 0.2/2.1 MB 169.1 kB/s eta 0:00:12\n",
      "   --- ------------------------------------ 0.2/2.1 MB 176.0 kB/s eta 0:00:11\n",
      "   --- ------------------------------------ 0.2/2.1 MB 176.0 kB/s eta 0:00:11\n",
      "   --- ------------------------------------ 0.2/2.1 MB 168.2 kB/s eta 0:00:12\n",
      "   --- ------------------------------------ 0.2/2.1 MB 168.2 kB/s eta 0:00:12\n",
      "   ---- ----------------------------------- 0.2/2.1 MB 172.0 kB/s eta 0:00:11\n",
      "   ---- ----------------------------------- 0.2/2.1 MB 177.3 kB/s eta 0:00:11\n",
      "   ---- ----------------------------------- 0.2/2.1 MB 177.3 kB/s eta 0:00:11\n",
      "   ---- ----------------------------------- 0.2/2.1 MB 177.3 kB/s eta 0:00:11\n",
      "   ----- ---------------------------------- 0.3/2.1 MB 176.2 kB/s eta 0:00:11\n",
      "   ----- ---------------------------------- 0.3/2.1 MB 176.2 kB/s eta 0:00:11\n",
      "   ----- ---------------------------------- 0.3/2.1 MB 180.5 kB/s eta 0:00:10\n",
      "   ----- ---------------------------------- 0.3/2.1 MB 179.9 kB/s eta 0:00:10\n",
      "   ------ --------------------------------- 0.3/2.1 MB 183.7 kB/s eta 0:00:10\n",
      "   ------ --------------------------------- 0.3/2.1 MB 183.7 kB/s eta 0:00:10\n",
      "   ------ --------------------------------- 0.3/2.1 MB 181.4 kB/s eta 0:00:10\n",
      "   ------ --------------------------------- 0.3/2.1 MB 183.3 kB/s eta 0:00:10\n",
      "   ------ --------------------------------- 0.3/2.1 MB 183.3 kB/s eta 0:00:10\n",
      "   ------- -------------------------------- 0.4/2.1 MB 189.5 kB/s eta 0:00:10\n",
      "   ------- -------------------------------- 0.4/2.1 MB 188.8 kB/s eta 0:00:10\n",
      "   ------- -------------------------------- 0.4/2.1 MB 188.8 kB/s eta 0:00:10\n",
      "   ------- -------------------------------- 0.4/2.1 MB 190.1 kB/s eta 0:00:09\n",
      "   ------- -------------------------------- 0.4/2.1 MB 190.1 kB/s eta 0:00:09\n",
      "   ------- -------------------------------- 0.4/2.1 MB 187.9 kB/s eta 0:00:09\n",
      "   -------- ------------------------------- 0.4/2.1 MB 190.6 kB/s eta 0:00:09\n",
      "   -------- ------------------------------- 0.5/2.1 MB 195.7 kB/s eta 0:00:09\n",
      "   -------- ------------------------------- 0.5/2.1 MB 195.7 kB/s eta 0:00:09\n",
      "   -------- ------------------------------- 0.5/2.1 MB 192.2 kB/s eta 0:00:09\n",
      "   -------- ------------------------------- 0.5/2.1 MB 192.2 kB/s eta 0:00:09\n",
      "   --------- ------------------------------ 0.5/2.1 MB 194.5 kB/s eta 0:00:09\n",
      "   --------- ------------------------------ 0.5/2.1 MB 194.5 kB/s eta 0:00:09\n",
      "   --------- ------------------------------ 0.5/2.1 MB 192.5 kB/s eta 0:00:09\n",
      "   --------- ------------------------------ 0.5/2.1 MB 195.8 kB/s eta 0:00:09\n",
      "   ---------- ----------------------------- 0.5/2.1 MB 198.9 kB/s eta 0:00:08\n",
      "   ---------- ----------------------------- 0.5/2.1 MB 198.9 kB/s eta 0:00:08\n",
      "   ---------- ----------------------------- 0.5/2.1 MB 197.0 kB/s eta 0:00:08\n",
      "   ---------- ----------------------------- 0.6/2.1 MB 198.8 kB/s eta 0:00:08\n",
      "   ---------- ----------------------------- 0.6/2.1 MB 198.8 kB/s eta 0:00:08\n",
      "   ----------- ---------------------------- 0.6/2.1 MB 198.0 kB/s eta 0:00:08\n",
      "   ----------- ---------------------------- 0.6/2.1 MB 200.8 kB/s eta 0:00:08\n",
      "   ----------- ---------------------------- 0.6/2.1 MB 200.8 kB/s eta 0:00:08\n",
      "   ----------- ---------------------------- 0.6/2.1 MB 202.4 kB/s eta 0:00:08\n",
      "   ------------ --------------------------- 0.6/2.1 MB 201.6 kB/s eta 0:00:08\n",
      "   ------------ --------------------------- 0.6/2.1 MB 203.2 kB/s eta 0:00:08\n",
      "   ------------ --------------------------- 0.6/2.1 MB 203.2 kB/s eta 0:00:08\n",
      "   ------------ --------------------------- 0.7/2.1 MB 202.4 kB/s eta 0:00:08\n",
      "   ------------ --------------------------- 0.7/2.1 MB 203.8 kB/s eta 0:00:07\n",
      "   ------------ --------------------------- 0.7/2.1 MB 203.8 kB/s eta 0:00:07\n",
      "   ------------- -------------------------- 0.7/2.1 MB 205.2 kB/s eta 0:00:07\n",
      "   ------------- -------------------------- 0.7/2.1 MB 204.4 kB/s eta 0:00:07\n",
      "   ------------- -------------------------- 0.7/2.1 MB 204.4 kB/s eta 0:00:07\n",
      "   ------------- -------------------------- 0.7/2.1 MB 203.9 kB/s eta 0:00:07\n",
      "   -------------- ------------------------- 0.7/2.1 MB 204.1 kB/s eta 0:00:07\n",
      "   -------------- ------------------------- 0.7/2.1 MB 204.1 kB/s eta 0:00:07\n",
      "   -------------- ------------------------- 0.8/2.1 MB 205.3 kB/s eta 0:00:07\n",
      "   -------------- ------------------------- 0.8/2.1 MB 208.2 kB/s eta 0:00:07\n",
      "   -------------- ------------------------- 0.8/2.1 MB 208.2 kB/s eta 0:00:07\n",
      "   --------------- ------------------------ 0.8/2.1 MB 205.0 kB/s eta 0:00:07\n",
      "   --------------- ------------------------ 0.8/2.1 MB 206.9 kB/s eta 0:00:07\n",
      "   --------------- ------------------------ 0.8/2.1 MB 206.9 kB/s eta 0:00:07\n",
      "   ---------------- ----------------------- 0.8/2.1 MB 209.8 kB/s eta 0:00:06\n",
      "   ---------------- ----------------------- 0.8/2.1 MB 209.1 kB/s eta 0:00:06\n",
      "   ---------------- ----------------------- 0.8/2.1 MB 209.1 kB/s eta 0:00:06\n",
      "   ---------------- ----------------------- 0.9/2.1 MB 209.3 kB/s eta 0:00:06\n",
      "   ---------------- ----------------------- 0.9/2.1 MB 209.3 kB/s eta 0:00:06\n",
      "   ---------------- ----------------------- 0.9/2.1 MB 207.8 kB/s eta 0:00:06\n",
      "   ----------------- ---------------------- 0.9/2.1 MB 209.6 kB/s eta 0:00:06\n",
      "   ----------------- ---------------------- 0.9/2.1 MB 211.3 kB/s eta 0:00:06\n",
      "   ----------------- ---------------------- 0.9/2.1 MB 211.3 kB/s eta 0:00:06\n",
      "   ----------------- ---------------------- 0.9/2.1 MB 209.9 kB/s eta 0:00:06\n",
      "   ------------------ --------------------- 1.0/2.1 MB 210.8 kB/s eta 0:00:06\n",
      "   ------------------ --------------------- 1.0/2.1 MB 210.8 kB/s eta 0:00:06\n",
      "   ------------------ --------------------- 1.0/2.1 MB 209.4 kB/s eta 0:00:06\n",
      "   ------------------ --------------------- 1.0/2.1 MB 211.0 kB/s eta 0:00:06\n",
      "   ------------------ --------------------- 1.0/2.1 MB 211.0 kB/s eta 0:00:06\n",
      "   ------------------- -------------------- 1.0/2.1 MB 211.9 kB/s eta 0:00:06\n",
      "   ------------------- -------------------- 1.0/2.1 MB 211.3 kB/s eta 0:00:06\n",
      "   ------------------- -------------------- 1.0/2.1 MB 211.3 kB/s eta 0:00:06\n",
      "   ------------------- -------------------- 1.0/2.1 MB 212.1 kB/s eta 0:00:05\n",
      "   -------------------- ------------------- 1.0/2.1 MB 212.2 kB/s eta 0:00:05\n",
      "   -------------------- ------------------- 1.0/2.1 MB 212.2 kB/s eta 0:00:05\n",
      "   -------------------- ------------------- 1.1/2.1 MB 212.9 kB/s eta 0:00:05\n",
      "   -------------------- ------------------- 1.1/2.1 MB 211.6 kB/s eta 0:00:05\n",
      "   --------------------- ------------------ 1.1/2.1 MB 213.1 kB/s eta 0:00:05\n",
      "   --------------------- ------------------ 1.1/2.1 MB 213.1 kB/s eta 0:00:05\n",
      "   --------------------- ------------------ 1.1/2.1 MB 214.4 kB/s eta 0:00:05\n",
      "   --------------------- ------------------ 1.1/2.1 MB 213.2 kB/s eta 0:00:05\n",
      "   --------------------- ------------------ 1.1/2.1 MB 213.2 kB/s eta 0:00:05\n",
      "   ---------------------- ----------------- 1.1/2.1 MB 213.9 kB/s eta 0:00:05\n",
      "   ---------------------- ----------------- 1.1/2.1 MB 213.9 kB/s eta 0:00:05\n",
      "   ---------------------- ----------------- 1.2/2.1 MB 212.7 kB/s eta 0:00:05\n",
      "   ---------------------- ----------------- 1.2/2.1 MB 214.1 kB/s eta 0:00:05\n",
      "   ---------------------- ----------------- 1.2/2.1 MB 214.1 kB/s eta 0:00:05\n",
      "   ----------------------- ---------------- 1.2/2.1 MB 214.8 kB/s eta 0:00:05\n",
      "   ----------------------- ---------------- 1.2/2.1 MB 214.8 kB/s eta 0:00:05\n",
      "   ----------------------- ---------------- 1.2/2.1 MB 216.0 kB/s eta 0:00:04\n",
      "   ----------------------- ---------------- 1.2/2.1 MB 215.5 kB/s eta 0:00:04\n",
      "   ------------------------ --------------- 1.3/2.1 MB 216.1 kB/s eta 0:00:04\n",
      "   ------------------------ --------------- 1.3/2.1 MB 216.1 kB/s eta 0:00:04\n",
      "   ------------------------ --------------- 1.3/2.1 MB 216.7 kB/s eta 0:00:04\n",
      "   ------------------------ --------------- 1.3/2.1 MB 216.7 kB/s eta 0:00:04\n",
      "   ------------------------- -------------- 1.3/2.1 MB 217.9 kB/s eta 0:00:04\n",
      "   ------------------------- -------------- 1.3/2.1 MB 217.9 kB/s eta 0:00:04\n",
      "   ------------------------- -------------- 1.3/2.1 MB 217.9 kB/s eta 0:00:04\n",
      "   ------------------------- -------------- 1.4/2.1 MB 218.4 kB/s eta 0:00:04\n",
      "   -------------------------- ------------- 1.4/2.1 MB 220.1 kB/s eta 0:00:04\n",
      "   -------------------------- ------------- 1.4/2.1 MB 219.5 kB/s eta 0:00:04\n",
      "   -------------------------- ------------- 1.4/2.1 MB 219.5 kB/s eta 0:00:04\n",
      "   -------------------------- ------------- 1.4/2.1 MB 221.2 kB/s eta 0:00:04\n",
      "   -------------------------- ------------- 1.4/2.1 MB 221.2 kB/s eta 0:00:04\n",
      "   --------------------------- ------------ 1.4/2.1 MB 219.5 kB/s eta 0:00:04\n",
      "   --------------------------- ------------ 1.4/2.1 MB 220.6 kB/s eta 0:00:03\n",
      "   --------------------------- ------------ 1.5/2.1 MB 222.1 kB/s eta 0:00:03\n",
      "   ---------------------------- ----------- 1.5/2.1 MB 222.1 kB/s eta 0:00:03\n",
      "   ---------------------------- ----------- 1.5/2.1 MB 223.1 kB/s eta 0:00:03\n",
      "   ---------------------------- ----------- 1.5/2.1 MB 222.0 kB/s eta 0:00:03\n",
      "   ---------------------------- ----------- 1.5/2.1 MB 222.0 kB/s eta 0:00:03\n",
      "   ----------------------------- ---------- 1.5/2.1 MB 225.0 kB/s eta 0:00:03\n",
      "   ----------------------------- ---------- 1.5/2.1 MB 225.0 kB/s eta 0:00:03\n",
      "   ------------------------------ --------- 1.6/2.1 MB 226.4 kB/s eta 0:00:03\n",
      "   ------------------------------ --------- 1.6/2.1 MB 226.4 kB/s eta 0:00:03\n",
      "   ------------------------------ --------- 1.6/2.1 MB 225.3 kB/s eta 0:00:03\n",
      "   ------------------------------ --------- 1.6/2.1 MB 227.2 kB/s eta 0:00:03\n",
      "   ------------------------------- -------- 1.6/2.1 MB 228.6 kB/s eta 0:00:03\n",
      "   ------------------------------- -------- 1.6/2.1 MB 228.1 kB/s eta 0:00:02\n",
      "   ------------------------------- -------- 1.6/2.1 MB 229.9 kB/s eta 0:00:02\n",
      "   ------------------------------- -------- 1.7/2.1 MB 229.4 kB/s eta 0:00:02\n",
      "   -------------------------------- ------- 1.7/2.1 MB 230.2 kB/s eta 0:00:02\n",
      "   -------------------------------- ------- 1.7/2.1 MB 231.5 kB/s eta 0:00:02\n",
      "   -------------------------------- ------- 1.7/2.1 MB 231.5 kB/s eta 0:00:02\n",
      "   --------------------------------- ------ 1.7/2.1 MB 232.8 kB/s eta 0:00:02\n",
      "   --------------------------------- ------ 1.7/2.1 MB 232.2 kB/s eta 0:00:02\n",
      "   --------------------------------- ------ 1.8/2.1 MB 233.9 kB/s eta 0:00:02\n",
      "   --------------------------------- ------ 1.8/2.1 MB 233.9 kB/s eta 0:00:02\n",
      "   ---------------------------------- ----- 1.8/2.1 MB 234.7 kB/s eta 0:00:02\n",
      "   ---------------------------------- ----- 1.8/2.1 MB 234.6 kB/s eta 0:00:02\n",
      "   ---------------------------------- ----- 1.8/2.1 MB 235.9 kB/s eta 0:00:02\n",
      "   ----------------------------------- ---- 1.8/2.1 MB 235.8 kB/s eta 0:00:02\n",
      "   ----------------------------------- ---- 1.9/2.1 MB 239.2 kB/s eta 0:00:01\n",
      "   ------------------------------------ --- 1.9/2.1 MB 239.0 kB/s eta 0:00:01\n",
      "   ------------------------------------ --- 1.9/2.1 MB 239.0 kB/s eta 0:00:01\n",
      "   ------------------------------------ --- 1.9/2.1 MB 240.1 kB/s eta 0:00:01\n",
      "   ------------------------------------- -- 1.9/2.1 MB 241.7 kB/s eta 0:00:01\n",
      "   ------------------------------------- -- 1.9/2.1 MB 241.1 kB/s eta 0:00:01\n",
      "   ------------------------------------- -- 2.0/2.1 MB 243.1 kB/s eta 0:00:01\n",
      "   -------------------------------------- - 2.0/2.1 MB 245.1 kB/s eta 0:00:01\n",
      "   -------------------------------------- - 2.0/2.1 MB 246.2 kB/s eta 0:00:01\n",
      "   -------------------------------------- - 2.0/2.1 MB 246.1 kB/s eta 0:00:01\n",
      "   ---------------------------------------  2.0/2.1 MB 247.9 kB/s eta 0:00:01\n",
      "   ---------------------------------------  2.0/2.1 MB 247.9 kB/s eta 0:00:01\n",
      "   ---------------------------------------- 2.1/2.1 MB 248.6 kB/s eta 0:00:00\n",
      "Downloading prettytable-3.10.0-py3-none-any.whl (28 kB)\n",
      "Downloading sqlparse-0.5.0-py3-none-any.whl (43 kB)\n",
      "   ---------------------------------------- 0.0/44.0 kB ? eta -:--:--\n",
      "   --------- ------------------------------ 10.2/44.0 kB ? eta -:--:--\n",
      "   ---------------------------------------- 44.0/44.0 kB 535.4 kB/s eta 0:00:00\n",
      "Downloading greenlet-3.0.3-cp311-cp311-win_amd64.whl (292 kB)\n",
      "   ---------------------------------------- 0.0/292.8 kB ? eta -:--:--\n",
      "   -------- ------------------------------- 61.4/292.8 kB 1.1 MB/s eta 0:00:01\n",
      "   ---------- ---------------------------- 81.9/292.8 kB 919.0 kB/s eta 0:00:01\n",
      "   -------------- ----------------------- 112.6/292.8 kB 819.2 kB/s eta 0:00:01\n",
      "   ----------------- -------------------- 133.1/292.8 kB 782.7 kB/s eta 0:00:01\n",
      "   ----------------- -------------------- 133.1/292.8 kB 782.7 kB/s eta 0:00:01\n",
      "   ----------------- -------------------- 133.1/292.8 kB 782.7 kB/s eta 0:00:01\n",
      "   ------------------ ------------------- 143.4/292.8 kB 425.3 kB/s eta 0:00:01\n",
      "   ---------------------- --------------- 174.1/292.8 kB 455.1 kB/s eta 0:00:01\n",
      "   ----------------------------- -------- 225.3/292.8 kB 491.0 kB/s eta 0:00:01\n",
      "   --------------------------------- ---- 256.0/292.8 kB 491.5 kB/s eta 0:00:01\n",
      "   ----------------------------------- -- 276.5/292.8 kB 516.0 kB/s eta 0:00:01\n",
      "   -------------------------------------  286.7/292.8 kB 478.3 kB/s eta 0:00:01\n",
      "   -------------------------------------- 292.8/292.8 kB 463.2 kB/s eta 0:00:00\n",
      "Installing collected packages: sqlparse, prettytable, greenlet, sqlalchemy, ipython-sql\n",
      "  Attempting uninstall: sqlalchemy\n",
      "    Found existing installation: SQLAlchemy 1.3.9\n",
      "    Uninstalling SQLAlchemy-1.3.9:\n",
      "      Successfully uninstalled SQLAlchemy-1.3.9\n",
      "Successfully installed greenlet-3.0.3 ipython-sql-0.5.0 prettytable-3.10.0 sqlalchemy-2.0.31 sqlparse-0.5.0\n"
     ]
    },
    {
     "name": "stderr",
     "output_type": "stream",
     "text": [
      "\n",
      "[notice] A new release of pip is available: 24.0 -> 24.1.1\n",
      "[notice] To update, run: C:\\Users\\Dell\\AppData\\Local\\Microsoft\\WindowsApps\\PythonSoftwareFoundation.Python.3.11_qbz5n2kfra8p0\\python.exe -m pip install --upgrade pip\n"
     ]
    }
   ],
   "source": [
    "#Please uncomment and execute the code below if you are working locally.\n",
    "\n",
    "!pip install ipython-sql\n"
   ]
  },
  {
   "cell_type": "code",
   "execution_count": 5,
   "metadata": {
    "tags": []
   },
   "outputs": [],
   "source": [
    "%load_ext sql\n"
   ]
  },
  {
   "cell_type": "code",
   "execution_count": 8,
   "metadata": {
    "tags": []
   },
   "outputs": [],
   "source": [
    "import csv, sqlite3\n",
    "\n",
    "con = sqlite3.connect(\"my_data1.db\")\n",
    "cur = con.cursor()\n"
   ]
  },
  {
   "cell_type": "code",
   "execution_count": null,
   "metadata": {},
   "outputs": [],
   "source": [
    "!pip install -q pandas==1.1.5\n"
   ]
  },
  {
   "cell_type": "code",
   "execution_count": 10,
   "metadata": {
    "tags": []
   },
   "outputs": [],
   "source": [
    "%sql sqlite:///my_data1.db\n"
   ]
  },
  {
   "cell_type": "code",
   "execution_count": 11,
   "metadata": {
    "tags": []
   },
   "outputs": [
    {
     "data": {
      "text/plain": [
       "101"
      ]
     },
     "execution_count": 11,
     "metadata": {},
     "output_type": "execute_result"
    }
   ],
   "source": [
    "import pandas as pd\n",
    "df = pd.read_csv(\"https://cf-courses-data.s3.us.cloud-object-storage.appdomain.cloud/IBM-DS0321EN-SkillsNetwork/labs/module_2/data/Spacex.csv\")\n",
    "df.to_sql(\"SPACEXTBL\", con, if_exists='replace', index=False,method=\"multi\")\n"
   ]
  },
  {
   "cell_type": "markdown",
   "metadata": {},
   "source": [
    "**Note:This below code is added to remove blank rows from table**\n"
   ]
  },
  {
   "cell_type": "code",
   "execution_count": 12,
   "metadata": {
    "tags": []
   },
   "outputs": [
    {
     "name": "stdout",
     "output_type": "stream",
     "text": [
      " * sqlite:///my_data1.db\n",
      "Done.\n"
     ]
    },
    {
     "data": {
      "text/plain": [
       "[]"
      ]
     },
     "execution_count": 12,
     "metadata": {},
     "output_type": "execute_result"
    }
   ],
   "source": [
    "%sql create table SPACEXTABLE as select * from SPACEXTBL where Date is not null\n"
   ]
  },
  {
   "cell_type": "markdown",
   "metadata": {},
   "source": [
    "## Tasks\n",
    "\n",
    "Now write and execute SQL queries to solve the assignment tasks.\n",
    "\n",
    "**Note: If the column names are in mixed case enclose it in double quotes\n",
    "   For Example \"Landing_Outcome\"**\n",
    "\n",
    "### Task 1\n",
    "\n",
    "\n",
    "\n",
    "\n",
    "##### Display the names of the unique launch sites  in the space mission\n"
   ]
  },
  {
   "cell_type": "code",
   "execution_count": 13,
   "metadata": {
    "tags": []
   },
   "outputs": [
    {
     "name": "stdout",
     "output_type": "stream",
     "text": [
      " * sqlite:///my_data1.db\n",
      "Done.\n"
     ]
    },
    {
     "data": {
      "text/html": [
       "<table>\n",
       "    <thead>\n",
       "        <tr>\n",
       "            <th>Launch_Site</th>\n",
       "        </tr>\n",
       "    </thead>\n",
       "    <tbody>\n",
       "        <tr>\n",
       "            <td>CCAFS LC-40</td>\n",
       "        </tr>\n",
       "        <tr>\n",
       "            <td>VAFB SLC-4E</td>\n",
       "        </tr>\n",
       "        <tr>\n",
       "            <td>KSC LC-39A</td>\n",
       "        </tr>\n",
       "        <tr>\n",
       "            <td>CCAFS SLC-40</td>\n",
       "        </tr>\n",
       "    </tbody>\n",
       "</table>"
      ],
      "text/plain": [
       "[('CCAFS LC-40',), ('VAFB SLC-4E',), ('KSC LC-39A',), ('CCAFS SLC-40',)]"
      ]
     },
     "execution_count": 13,
     "metadata": {},
     "output_type": "execute_result"
    }
   ],
   "source": [
    "%sql SELECT DISTINCT Launch_Site FROM SPACEXTBL;\n"
   ]
  },
  {
   "cell_type": "markdown",
   "metadata": {},
   "source": [
    "\n",
    "### Task 2\n",
    "\n",
    "\n",
    "#####  Display 5 records where launch sites begin with the string 'CCA' \n"
   ]
  },
  {
   "cell_type": "code",
   "execution_count": 14,
   "metadata": {
    "tags": []
   },
   "outputs": [
    {
     "name": "stdout",
     "output_type": "stream",
     "text": [
      " * sqlite:///my_data1.db\n",
      "Done.\n"
     ]
    },
    {
     "data": {
      "text/html": [
       "<table>\n",
       "    <thead>\n",
       "        <tr>\n",
       "            <th>Date</th>\n",
       "            <th>Time (UTC)</th>\n",
       "            <th>Booster_Version</th>\n",
       "            <th>Launch_Site</th>\n",
       "            <th>Payload</th>\n",
       "            <th>PAYLOAD_MASS__KG_</th>\n",
       "            <th>Orbit</th>\n",
       "            <th>Customer</th>\n",
       "            <th>Mission_Outcome</th>\n",
       "            <th>Landing_Outcome</th>\n",
       "        </tr>\n",
       "    </thead>\n",
       "    <tbody>\n",
       "        <tr>\n",
       "            <td>2010-06-04</td>\n",
       "            <td>18:45:00</td>\n",
       "            <td>F9 v1.0  B0003</td>\n",
       "            <td>CCAFS LC-40</td>\n",
       "            <td>Dragon Spacecraft Qualification Unit</td>\n",
       "            <td>0</td>\n",
       "            <td>LEO</td>\n",
       "            <td>SpaceX</td>\n",
       "            <td>Success</td>\n",
       "            <td>Failure (parachute)</td>\n",
       "        </tr>\n",
       "        <tr>\n",
       "            <td>2010-12-08</td>\n",
       "            <td>15:43:00</td>\n",
       "            <td>F9 v1.0  B0004</td>\n",
       "            <td>CCAFS LC-40</td>\n",
       "            <td>Dragon demo flight C1, two CubeSats, barrel of Brouere cheese</td>\n",
       "            <td>0</td>\n",
       "            <td>LEO (ISS)</td>\n",
       "            <td>NASA (COTS) NRO</td>\n",
       "            <td>Success</td>\n",
       "            <td>Failure (parachute)</td>\n",
       "        </tr>\n",
       "        <tr>\n",
       "            <td>2012-05-22</td>\n",
       "            <td>7:44:00</td>\n",
       "            <td>F9 v1.0  B0005</td>\n",
       "            <td>CCAFS LC-40</td>\n",
       "            <td>Dragon demo flight C2</td>\n",
       "            <td>525</td>\n",
       "            <td>LEO (ISS)</td>\n",
       "            <td>NASA (COTS)</td>\n",
       "            <td>Success</td>\n",
       "            <td>No attempt</td>\n",
       "        </tr>\n",
       "        <tr>\n",
       "            <td>2012-10-08</td>\n",
       "            <td>0:35:00</td>\n",
       "            <td>F9 v1.0  B0006</td>\n",
       "            <td>CCAFS LC-40</td>\n",
       "            <td>SpaceX CRS-1</td>\n",
       "            <td>500</td>\n",
       "            <td>LEO (ISS)</td>\n",
       "            <td>NASA (CRS)</td>\n",
       "            <td>Success</td>\n",
       "            <td>No attempt</td>\n",
       "        </tr>\n",
       "        <tr>\n",
       "            <td>2013-03-01</td>\n",
       "            <td>15:10:00</td>\n",
       "            <td>F9 v1.0  B0007</td>\n",
       "            <td>CCAFS LC-40</td>\n",
       "            <td>SpaceX CRS-2</td>\n",
       "            <td>677</td>\n",
       "            <td>LEO (ISS)</td>\n",
       "            <td>NASA (CRS)</td>\n",
       "            <td>Success</td>\n",
       "            <td>No attempt</td>\n",
       "        </tr>\n",
       "    </tbody>\n",
       "</table>"
      ],
      "text/plain": [
       "[('2010-06-04', '18:45:00', 'F9 v1.0  B0003', 'CCAFS LC-40', 'Dragon Spacecraft Qualification Unit', 0, 'LEO', 'SpaceX', 'Success', 'Failure (parachute)'),\n",
       " ('2010-12-08', '15:43:00', 'F9 v1.0  B0004', 'CCAFS LC-40', 'Dragon demo flight C1, two CubeSats, barrel of Brouere cheese', 0, 'LEO (ISS)', 'NASA (COTS) NRO', 'Success', 'Failure (parachute)'),\n",
       " ('2012-05-22', '7:44:00', 'F9 v1.0  B0005', 'CCAFS LC-40', 'Dragon demo flight C2', 525, 'LEO (ISS)', 'NASA (COTS)', 'Success', 'No attempt'),\n",
       " ('2012-10-08', '0:35:00', 'F9 v1.0  B0006', 'CCAFS LC-40', 'SpaceX CRS-1', 500, 'LEO (ISS)', 'NASA (CRS)', 'Success', 'No attempt'),\n",
       " ('2013-03-01', '15:10:00', 'F9 v1.0  B0007', 'CCAFS LC-40', 'SpaceX CRS-2', 677, 'LEO (ISS)', 'NASA (CRS)', 'Success', 'No attempt')]"
      ]
     },
     "execution_count": 14,
     "metadata": {},
     "output_type": "execute_result"
    }
   ],
   "source": [
    "%sql SELECT * FROM SPACEXTBL WHERE LAUNCH_SITE LIKE 'CCA%' LIMIT 5;\n"
   ]
  },
  {
   "cell_type": "markdown",
   "metadata": {},
   "source": [
    "### Task 3\n",
    "\n",
    "\n",
    "\n",
    "\n",
    "##### Display the total payload mass carried by boosters launched by NASA (CRS)\n"
   ]
  },
  {
   "cell_type": "code",
   "execution_count": 16,
   "metadata": {
    "tags": []
   },
   "outputs": [
    {
     "name": "stdout",
     "output_type": "stream",
     "text": [
      " * sqlite:///my_data1.db\n",
      "Done.\n"
     ]
    },
    {
     "data": {
      "text/html": [
       "<table>\n",
       "    <thead>\n",
       "        <tr>\n",
       "            <th>SUM(PAYLOAD_MASS__KG_)</th>\n",
       "        </tr>\n",
       "    </thead>\n",
       "    <tbody>\n",
       "        <tr>\n",
       "            <td>45596</td>\n",
       "        </tr>\n",
       "    </tbody>\n",
       "</table>"
      ],
      "text/plain": [
       "[(45596,)]"
      ]
     },
     "execution_count": 16,
     "metadata": {},
     "output_type": "execute_result"
    }
   ],
   "source": [
    "%sql SELECT SUM(PAYLOAD_MASS__KG_) FROM SPACEXTBL \\\n",
    "WHERE Customer = 'NASA (CRS)';\n"
   ]
  },
  {
   "cell_type": "markdown",
   "metadata": {},
   "source": [
    "### Task 4\n",
    "\n",
    "\n",
    "\n",
    "\n",
    "##### Display average payload mass carried by booster version F9 v1.1\n"
   ]
  },
  {
   "cell_type": "code",
   "execution_count": 17,
   "metadata": {
    "tags": []
   },
   "outputs": [
    {
     "name": "stdout",
     "output_type": "stream",
     "text": [
      " * sqlite:///my_data1.db\n",
      "Done.\n"
     ]
    },
    {
     "data": {
      "text/html": [
       "<table>\n",
       "    <thead>\n",
       "        <tr>\n",
       "            <th>AVG(PAYLOAD_MASS__KG_)</th>\n",
       "        </tr>\n",
       "    </thead>\n",
       "    <tbody>\n",
       "        <tr>\n",
       "            <td>2928.4</td>\n",
       "        </tr>\n",
       "    </tbody>\n",
       "</table>"
      ],
      "text/plain": [
       "[(2928.4,)]"
      ]
     },
     "execution_count": 17,
     "metadata": {},
     "output_type": "execute_result"
    }
   ],
   "source": [
    "%sql SELECT AVG(PAYLOAD_MASS__KG_) FROM SPACEXTBL \\\n",
    "WHERE BOOSTER_VERSION = 'F9 v1.1';\n"
   ]
  },
  {
   "cell_type": "markdown",
   "metadata": {},
   "source": [
    "### Task 5\n",
    "\n",
    "##### List the date when the first succesful landing outcome in ground pad was acheived.\n",
    "\n",
    "\n",
    "_Hint:Use min function_ \n"
   ]
  },
  {
   "cell_type": "code",
   "execution_count": 18,
   "metadata": {
    "tags": []
   },
   "outputs": [
    {
     "name": "stdout",
     "output_type": "stream",
     "text": [
      " * sqlite:///my_data1.db\n",
      "Done.\n"
     ]
    },
    {
     "data": {
      "text/html": [
       "<table>\n",
       "    <thead>\n",
       "        <tr>\n",
       "            <th>MIN(Date)</th>\n",
       "        </tr>\n",
       "    </thead>\n",
       "    <tbody>\n",
       "        <tr>\n",
       "            <td>2010-06-04</td>\n",
       "        </tr>\n",
       "    </tbody>\n",
       "</table>"
      ],
      "text/plain": [
       "[('2010-06-04',)]"
      ]
     },
     "execution_count": 18,
     "metadata": {},
     "output_type": "execute_result"
    }
   ],
   "source": [
    "%sql SELECT MIN(Date) FROM SPACEXTBL \\\n",
    "WHERE MISSION_OUTCOME = 'Success';\n"
   ]
  },
  {
   "cell_type": "markdown",
   "metadata": {},
   "source": [
    "### Task 6\n",
    "\n",
    "##### List the names of the boosters which have success in drone ship and have payload mass greater than 4000 but less than 6000\n"
   ]
  },
  {
   "cell_type": "code",
   "execution_count": 23,
   "metadata": {
    "tags": []
   },
   "outputs": [
    {
     "name": "stdout",
     "output_type": "stream",
     "text": [
      " * sqlite:///my_data1.db\n",
      "Done.\n"
     ]
    },
    {
     "data": {
      "text/html": [
       "<table>\n",
       "    <thead>\n",
       "        <tr>\n",
       "            <th>Booster_Version</th>\n",
       "        </tr>\n",
       "    </thead>\n",
       "    <tbody>\n",
       "        <tr>\n",
       "            <td>F9 FT B1022</td>\n",
       "        </tr>\n",
       "        <tr>\n",
       "            <td>F9 FT B1026</td>\n",
       "        </tr>\n",
       "        <tr>\n",
       "            <td>F9 FT  B1021.2</td>\n",
       "        </tr>\n",
       "        <tr>\n",
       "            <td>F9 FT  B1031.2</td>\n",
       "        </tr>\n",
       "    </tbody>\n",
       "</table>"
      ],
      "text/plain": [
       "[('F9 FT B1022',), ('F9 FT B1026',), ('F9 FT  B1021.2',), ('F9 FT  B1031.2',)]"
      ]
     },
     "execution_count": 23,
     "metadata": {},
     "output_type": "execute_result"
    }
   ],
   "source": [
    "%sql SELECT BOOSTER_VERSION FROM SPACEXTBL \\\n",
    "WHERE LANDING_OUTCOME = 'Success (drone ship)' \\\n",
    "AND PAYLOAD_MASS__KG_ BETWEEN 4000 AND 6000;\n"
   ]
  },
  {
   "cell_type": "markdown",
   "metadata": {},
   "source": [
    "### Task 7\n",
    "\n",
    "\n",
    "\n",
    "\n",
    "##### List the total number of successful and failure mission outcomes\n"
   ]
  },
  {
   "cell_type": "code",
   "execution_count": 25,
   "metadata": {
    "tags": []
   },
   "outputs": [
    {
     "name": "stdout",
     "output_type": "stream",
     "text": [
      " * sqlite:///my_data1.db\n",
      "Done.\n"
     ]
    },
    {
     "data": {
      "text/html": [
       "<table>\n",
       "    <thead>\n",
       "        <tr>\n",
       "            <th>Mission_Outcome</th>\n",
       "            <th>tc</th>\n",
       "        </tr>\n",
       "    </thead>\n",
       "    <tbody>\n",
       "        <tr>\n",
       "            <td>Failure (in flight)</td>\n",
       "            <td>1</td>\n",
       "        </tr>\n",
       "        <tr>\n",
       "            <td>Success</td>\n",
       "            <td>98</td>\n",
       "        </tr>\n",
       "        <tr>\n",
       "            <td>Success </td>\n",
       "            <td>1</td>\n",
       "        </tr>\n",
       "        <tr>\n",
       "            <td>Success (payload status unclear)</td>\n",
       "            <td>1</td>\n",
       "        </tr>\n",
       "    </tbody>\n",
       "</table>"
      ],
      "text/plain": [
       "[('Failure (in flight)', 1),\n",
       " ('Success', 98),\n",
       " ('Success ', 1),\n",
       " ('Success (payload status unclear)', 1)]"
      ]
     },
     "execution_count": 25,
     "metadata": {},
     "output_type": "execute_result"
    }
   ],
   "source": [
    "%sql SELECT MISSION_OUTCOME, COUNT(*) AS tc \\\n",
    "FROM SPACEXTBL GROUP BY MISSION_OUTCOME;\n"
   ]
  },
  {
   "cell_type": "markdown",
   "metadata": {},
   "source": [
    "### Task 8\n",
    "\n",
    "\n",
    "\n",
    "##### List the   names of the booster_versions which have carried the maximum payload mass. Use a subquery\n"
   ]
  },
  {
   "cell_type": "code",
   "execution_count": 26,
   "metadata": {
    "tags": []
   },
   "outputs": [
    {
     "name": "stdout",
     "output_type": "stream",
     "text": [
      " * sqlite:///my_data1.db\n",
      "Done.\n"
     ]
    },
    {
     "data": {
      "text/html": [
       "<table>\n",
       "    <thead>\n",
       "        <tr>\n",
       "            <th>Booster_Version</th>\n",
       "            <th>PAYLOAD_MASS__KG_</th>\n",
       "        </tr>\n",
       "    </thead>\n",
       "    <tbody>\n",
       "        <tr>\n",
       "            <td>F9 B5 B1048.4</td>\n",
       "            <td>15600</td>\n",
       "        </tr>\n",
       "        <tr>\n",
       "            <td>F9 B5 B1049.4</td>\n",
       "            <td>15600</td>\n",
       "        </tr>\n",
       "        <tr>\n",
       "            <td>F9 B5 B1051.3</td>\n",
       "            <td>15600</td>\n",
       "        </tr>\n",
       "        <tr>\n",
       "            <td>F9 B5 B1056.4</td>\n",
       "            <td>15600</td>\n",
       "        </tr>\n",
       "        <tr>\n",
       "            <td>F9 B5 B1048.5</td>\n",
       "            <td>15600</td>\n",
       "        </tr>\n",
       "    </tbody>\n",
       "</table>"
      ],
      "text/plain": [
       "[('F9 B5 B1048.4', 15600),\n",
       " ('F9 B5 B1049.4', 15600),\n",
       " ('F9 B5 B1051.3', 15600),\n",
       " ('F9 B5 B1056.4', 15600),\n",
       " ('F9 B5 B1048.5', 15600)]"
      ]
     },
     "execution_count": 26,
     "metadata": {},
     "output_type": "execute_result"
    }
   ],
   "source": [
    "%sql SELECT BOOSTER_VERSION, PAYLOAD_MASS__KG_ \\\n",
    "FROM SPACEXTBL WHERE PAYLOAD_MASS__KG_ = \\\n",
    "(SELECT MAX(PAYLOAD_MASS__KG_) FROM SPACEXTBL)LIMIT 5;\n"
   ]
  },
  {
   "cell_type": "markdown",
   "metadata": {},
   "source": [
    "### Task 9\n",
    "\n",
    "\n",
    "##### List the records which will display the month names, failure landing_outcomes in drone ship ,booster versions, launch_site for the months in year 2015.\n",
    "\n",
    "**Note: SQLLite does not support monthnames. So you need to use  substr(Date, 6,2) as month to get the months and substr(Date,0,5)='2015' for year.**\n"
   ]
  },
  {
   "cell_type": "code",
   "execution_count": 29,
   "metadata": {
    "tags": []
   },
   "outputs": [
    {
     "name": "stdout",
     "output_type": "stream",
     "text": [
      " * sqlite:///my_data1.db\n",
      "(sqlite3.OperationalError) no such function: year\n",
      "[SQL: SELECT DATE, BOOSTER_VERSION, LAUNCH_SITE FROM SPACEXTBL WHERE year(DATE) = '2015' AND LANDING__OUTCOME = 'Failure (drone ship)' ;]\n",
      "(Background on this error at: https://sqlalche.me/e/20/e3q8)\n"
     ]
    }
   ],
   "source": [
    "%sql SELECT substr(Date, 4, 2) AS month, Date, BOOSTER_VERSION, LAUNCH_SITE, Landing_Outcome FROM SPACEXTBL WHERE Landing_Outcome = 'Failure (drone ship)' AND substr(Date, 7, 4) = '2015';\n"
   ]
  },
  {
   "cell_type": "markdown",
   "metadata": {},
   "source": [
    "### Task 10\n",
    "\n",
    "\n",
    "\n",
    "\n",
    "##### Rank the count of landing outcomes (such as Failure (drone ship) or Success (ground pad)) between the date 2010-06-04 and 2017-03-20, in descending order.\n"
   ]
  },
  {
   "cell_type": "code",
   "execution_count": 30,
   "metadata": {
    "tags": []
   },
   "outputs": [
    {
     "name": "stdout",
     "output_type": "stream",
     "text": [
      " * sqlite:///my_data1.db\n",
      "Done.\n"
     ]
    },
    {
     "data": {
      "text/html": [
       "<table>\n",
       "    <thead>\n",
       "        <tr>\n",
       "            <th>Landing_Outcome</th>\n",
       "            <th>count_outcomes</th>\n",
       "        </tr>\n",
       "    </thead>\n",
       "    <tbody>\n",
       "    </tbody>\n",
       "</table>"
      ],
      "text/plain": [
       "[]"
      ]
     },
     "execution_count": 30,
     "metadata": {},
     "output_type": "execute_result"
    }
   ],
   "source": [
    "%sql SELECT [Landing_Outcome], count(*) as count_outcomes FROM SPACEXTBL WHERE DATE between '04-06-2010' and '20-03-2017' group by [Landing_Outcome] order by count_outcomes DESC;\n"
   ]
  },
  {
   "cell_type": "markdown",
   "metadata": {},
   "source": [
    "### Reference Links\n",
    "\n",
    "* <a href =\"https://cf-courses-data.s3.us.cloud-object-storage.appdomain.cloud/IBMDeveloperSkillsNetwork-DB0201EN-SkillsNetwork/labs/Labs_Coursera_V5/labs/Lab%20-%20String%20Patterns%20-%20Sorting%20-%20Grouping/instructional-labs.md.html?origin=www.coursera.org\">Hands-on Lab : String Patterns, Sorting and Grouping</a>  \n",
    "\n",
    "*  <a  href=\"https://cf-courses-data.s3.us.cloud-object-storage.appdomain.cloud/IBMDeveloperSkillsNetwork-DB0201EN-SkillsNetwork/labs/Labs_Coursera_V5/labs/Lab%20-%20Built-in%20functions%20/Hands-on_Lab__Built-in_Functions.md.html?origin=www.coursera.org\">Hands-on Lab: Built-in functions</a>\n",
    "\n",
    "*  <a  href=\"https://cf-courses-data.s3.us.cloud-object-storage.appdomain.cloud/IBMDeveloperSkillsNetwork-DB0201EN-SkillsNetwork/labs/Labs_Coursera_V5/labs/Lab%20-%20Sub-queries%20and%20Nested%20SELECTs%20/instructional-labs.md.html?origin=www.coursera.org\">Hands-on Lab : Sub-queries and Nested SELECT Statements</a>\n",
    "\n",
    "*   <a href=\"https://cf-courses-data.s3.us.cloud-object-storage.appdomain.cloud/IBMDeveloperSkillsNetwork-DB0201EN-SkillsNetwork/labs/Module%205/DB0201EN-Week3-1-3-SQLmagic.ipynb\">Hands-on Tutorial: Accessing Databases with SQL magic</a>\n",
    "\n",
    "*  <a href= \"https://cf-courses-data.s3.us.cloud-object-storage.appdomain.cloud/IBMDeveloperSkillsNetwork-DB0201EN-SkillsNetwork/labs/Module%205/DB0201EN-Week3-1-4-Analyzing.ipynb\">Hands-on Lab: Analyzing a real World Data Set</a>\n",
    "\n",
    "\n"
   ]
  },
  {
   "cell_type": "markdown",
   "metadata": {},
   "source": [
    "## Author(s)\n",
    "\n",
    "<h4> Lakshmi Holla </h4>\n"
   ]
  },
  {
   "cell_type": "markdown",
   "metadata": {},
   "source": [
    "## Other Contributors\n",
    "\n",
    "<h4> Rav Ahuja </h4>\n"
   ]
  },
  {
   "cell_type": "markdown",
   "metadata": {},
   "source": [
    "## Change log\n",
    "| Date | Version | Changed by | Change Description |\n",
    "|------|--------|--------|---------|\n",
    "| 2021-07-09 | 0.2 |Lakshmi Holla | Changes made in magic sql|\n",
    "| 2021-05-20 | 0.1 |Lakshmi Holla | Created Initial Version |\n"
   ]
  },
  {
   "cell_type": "markdown",
   "metadata": {},
   "source": [
    "## <h3 align=\"center\"> © IBM Corporation 2021. All rights reserved. <h3/>\n"
   ]
  }
 ],
 "metadata": {
  "kernelspec": {
   "display_name": "Python 3",
   "language": "python",
   "name": "python3"
  },
  "language_info": {
   "codemirror_mode": {
    "name": "ipython",
    "version": 3
   },
   "file_extension": ".py",
   "mimetype": "text/x-python",
   "name": "python",
   "nbconvert_exporter": "python",
   "pygments_lexer": "ipython3",
   "version": "3.11.9"
  }
 },
 "nbformat": 4,
 "nbformat_minor": 4
}
